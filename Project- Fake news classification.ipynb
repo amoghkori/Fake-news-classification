{
 "cells": [
  {
   "cell_type": "code",
   "execution_count": 1,
   "id": "1e9538ae",
   "metadata": {},
   "outputs": [],
   "source": [
    "#Import Libraries\n",
    "\n",
    "import pandas as pd\n",
    "import numpy as np \n",
    "import re\n",
    "from nltk.corpus import stopwords\n",
    "from nltk.stem.porter import PorterStemmer\n",
    "from sklearn.feature_extraction.text import TfidfVectorizer\n",
    "from scipy.sparse import hstack, csr_matrix"
   ]
  },
  {
   "cell_type": "code",
   "execution_count": 2,
   "id": "431213e7",
   "metadata": {},
   "outputs": [],
   "source": [
    "train_data = pd.read_csv('train.csv')\n",
    "test_data = pd.read_csv('test.csv')"
   ]
  },
  {
   "cell_type": "markdown",
   "id": "e03956b3",
   "metadata": {},
   "source": [
    "## Data Analysis"
   ]
  },
  {
   "cell_type": "code",
   "execution_count": 3,
   "id": "470bff2e",
   "metadata": {},
   "outputs": [
    {
     "data": {
      "text/plain": [
       "id            int64\n",
       "tid1          int64\n",
       "tid2          int64\n",
       "title1_en    object\n",
       "title2_en    object\n",
       "label        object\n",
       "dtype: object"
      ]
     },
     "execution_count": 3,
     "metadata": {},
     "output_type": "execute_result"
    }
   ],
   "source": [
    "train_data.dtypes"
   ]
  },
  {
   "cell_type": "code",
   "execution_count": 4,
   "id": "b39a754e",
   "metadata": {},
   "outputs": [
    {
     "data": {
      "text/html": [
       "<div>\n",
       "<style scoped>\n",
       "    .dataframe tbody tr th:only-of-type {\n",
       "        vertical-align: middle;\n",
       "    }\n",
       "\n",
       "    .dataframe tbody tr th {\n",
       "        vertical-align: top;\n",
       "    }\n",
       "\n",
       "    .dataframe thead th {\n",
       "        text-align: right;\n",
       "    }\n",
       "</style>\n",
       "<table border=\"1\" class=\"dataframe\">\n",
       "  <thead>\n",
       "    <tr style=\"text-align: right;\">\n",
       "      <th></th>\n",
       "      <th>id</th>\n",
       "      <th>tid1</th>\n",
       "      <th>tid2</th>\n",
       "      <th>title1_en</th>\n",
       "      <th>title2_en</th>\n",
       "      <th>label</th>\n",
       "    </tr>\n",
       "  </thead>\n",
       "  <tbody>\n",
       "    <tr>\n",
       "      <th>0</th>\n",
       "      <td>195611</td>\n",
       "      <td>0</td>\n",
       "      <td>1</td>\n",
       "      <td>There are two new old-age insurance benefits f...</td>\n",
       "      <td>Police disprove \"bird's nest congress each per...</td>\n",
       "      <td>unrelated</td>\n",
       "    </tr>\n",
       "    <tr>\n",
       "      <th>1</th>\n",
       "      <td>191474</td>\n",
       "      <td>2</td>\n",
       "      <td>3</td>\n",
       "      <td>\"If you do not come to Shenzhen, sooner or lat...</td>\n",
       "      <td>Shenzhen's GDP outstrips Hong Kong? Shenzhen S...</td>\n",
       "      <td>unrelated</td>\n",
       "    </tr>\n",
       "    <tr>\n",
       "      <th>2</th>\n",
       "      <td>25300</td>\n",
       "      <td>2</td>\n",
       "      <td>4</td>\n",
       "      <td>\"If you do not come to Shenzhen, sooner or lat...</td>\n",
       "      <td>The GDP overtopped Hong Kong? Shenzhen clarifi...</td>\n",
       "      <td>unrelated</td>\n",
       "    </tr>\n",
       "    <tr>\n",
       "      <th>3</th>\n",
       "      <td>123757</td>\n",
       "      <td>2</td>\n",
       "      <td>8</td>\n",
       "      <td>\"If you do not come to Shenzhen, sooner or lat...</td>\n",
       "      <td>Shenzhen's GDP overtakes Hong Kong? Bureau of ...</td>\n",
       "      <td>unrelated</td>\n",
       "    </tr>\n",
       "    <tr>\n",
       "      <th>4</th>\n",
       "      <td>141761</td>\n",
       "      <td>2</td>\n",
       "      <td>11</td>\n",
       "      <td>\"If you do not come to Shenzhen, sooner or lat...</td>\n",
       "      <td>Shenzhen's GDP outpaces Hong Kong? Defending R...</td>\n",
       "      <td>unrelated</td>\n",
       "    </tr>\n",
       "  </tbody>\n",
       "</table>\n",
       "</div>"
      ],
      "text/plain": [
       "       id  tid1  tid2                                          title1_en  \\\n",
       "0  195611     0     1  There are two new old-age insurance benefits f...   \n",
       "1  191474     2     3  \"If you do not come to Shenzhen, sooner or lat...   \n",
       "2   25300     2     4  \"If you do not come to Shenzhen, sooner or lat...   \n",
       "3  123757     2     8  \"If you do not come to Shenzhen, sooner or lat...   \n",
       "4  141761     2    11  \"If you do not come to Shenzhen, sooner or lat...   \n",
       "\n",
       "                                           title2_en      label  \n",
       "0  Police disprove \"bird's nest congress each per...  unrelated  \n",
       "1  Shenzhen's GDP outstrips Hong Kong? Shenzhen S...  unrelated  \n",
       "2  The GDP overtopped Hong Kong? Shenzhen clarifi...  unrelated  \n",
       "3  Shenzhen's GDP overtakes Hong Kong? Bureau of ...  unrelated  \n",
       "4  Shenzhen's GDP outpaces Hong Kong? Defending R...  unrelated  "
      ]
     },
     "execution_count": 4,
     "metadata": {},
     "output_type": "execute_result"
    }
   ],
   "source": [
    "train_data.head()"
   ]
  },
  {
   "cell_type": "code",
   "execution_count": 5,
   "id": "8d5e7908",
   "metadata": {},
   "outputs": [
    {
     "data": {
      "text/html": [
       "<div>\n",
       "<style scoped>\n",
       "    .dataframe tbody tr th:only-of-type {\n",
       "        vertical-align: middle;\n",
       "    }\n",
       "\n",
       "    .dataframe tbody tr th {\n",
       "        vertical-align: top;\n",
       "    }\n",
       "\n",
       "    .dataframe thead th {\n",
       "        text-align: right;\n",
       "    }\n",
       "</style>\n",
       "<table border=\"1\" class=\"dataframe\">\n",
       "  <thead>\n",
       "    <tr style=\"text-align: right;\">\n",
       "      <th></th>\n",
       "      <th>id</th>\n",
       "      <th>tid1</th>\n",
       "      <th>tid2</th>\n",
       "      <th>title1_en</th>\n",
       "      <th>title2_en</th>\n",
       "      <th>label</th>\n",
       "    </tr>\n",
       "  </thead>\n",
       "  <tbody>\n",
       "    <tr>\n",
       "      <th>256437</th>\n",
       "      <td>113364</td>\n",
       "      <td>167562</td>\n",
       "      <td>48447</td>\n",
       "      <td>egypt 's presidential election failed to win m...</td>\n",
       "      <td>Salah is retiring? Football Association offici...</td>\n",
       "      <td>unrelated</td>\n",
       "    </tr>\n",
       "    <tr>\n",
       "      <th>256438</th>\n",
       "      <td>49407</td>\n",
       "      <td>167562</td>\n",
       "      <td>49795</td>\n",
       "      <td>egypt 's presidential election failed to win m...</td>\n",
       "      <td>Liverpool's bid for Little Germany? The Echo's...</td>\n",
       "      <td>unrelated</td>\n",
       "    </tr>\n",
       "    <tr>\n",
       "      <th>256439</th>\n",
       "      <td>130134</td>\n",
       "      <td>167562</td>\n",
       "      <td>114783</td>\n",
       "      <td>egypt 's presidential election failed to win m...</td>\n",
       "      <td>West Media Exposing Tallahlach has been recomm...</td>\n",
       "      <td>unrelated</td>\n",
       "    </tr>\n",
       "    <tr>\n",
       "      <th>256440</th>\n",
       "      <td>101494</td>\n",
       "      <td>167562</td>\n",
       "      <td>137705</td>\n",
       "      <td>egypt 's presidential election failed to win m...</td>\n",
       "      <td>Rumor has it that Egypt is very united and the...</td>\n",
       "      <td>unrelated</td>\n",
       "    </tr>\n",
       "    <tr>\n",
       "      <th>256441</th>\n",
       "      <td>89356</td>\n",
       "      <td>167563</td>\n",
       "      <td>66480</td>\n",
       "      <td>Will the United States wage war on Iraq withou...</td>\n",
       "      <td>Saddam's daughter refutes rumors: no. 2 of Sad...</td>\n",
       "      <td>unrelated</td>\n",
       "    </tr>\n",
       "  </tbody>\n",
       "</table>\n",
       "</div>"
      ],
      "text/plain": [
       "            id    tid1    tid2  \\\n",
       "256437  113364  167562   48447   \n",
       "256438   49407  167562   49795   \n",
       "256439  130134  167562  114783   \n",
       "256440  101494  167562  137705   \n",
       "256441   89356  167563   66480   \n",
       "\n",
       "                                                title1_en  \\\n",
       "256437  egypt 's presidential election failed to win m...   \n",
       "256438  egypt 's presidential election failed to win m...   \n",
       "256439  egypt 's presidential election failed to win m...   \n",
       "256440  egypt 's presidential election failed to win m...   \n",
       "256441  Will the United States wage war on Iraq withou...   \n",
       "\n",
       "                                                title2_en      label  \n",
       "256437  Salah is retiring? Football Association offici...  unrelated  \n",
       "256438  Liverpool's bid for Little Germany? The Echo's...  unrelated  \n",
       "256439  West Media Exposing Tallahlach has been recomm...  unrelated  \n",
       "256440  Rumor has it that Egypt is very united and the...  unrelated  \n",
       "256441  Saddam's daughter refutes rumors: no. 2 of Sad...  unrelated  "
      ]
     },
     "execution_count": 5,
     "metadata": {},
     "output_type": "execute_result"
    }
   ],
   "source": [
    "train_data.tail()"
   ]
  },
  {
   "cell_type": "code",
   "execution_count": 6,
   "id": "32649674",
   "metadata": {},
   "outputs": [
    {
     "data": {
      "text/plain": [
       "(256442, 6)"
      ]
     },
     "execution_count": 6,
     "metadata": {},
     "output_type": "execute_result"
    }
   ],
   "source": [
    "train_data.shape"
   ]
  },
  {
   "cell_type": "code",
   "execution_count": 7,
   "id": "23c8de18",
   "metadata": {},
   "outputs": [
    {
     "data": {
      "text/plain": [
       "id           0.0\n",
       "tid1         0.0\n",
       "tid2         0.0\n",
       "title1_en    0.0\n",
       "title2_en    0.0\n",
       "label        0.0\n",
       "dtype: float64"
      ]
     },
     "execution_count": 7,
     "metadata": {},
     "output_type": "execute_result"
    }
   ],
   "source": [
    "train_data.isnull().sum()/len(train_data)*100"
   ]
  },
  {
   "cell_type": "code",
   "execution_count": 8,
   "id": "b021894b",
   "metadata": {},
   "outputs": [
    {
     "data": {
      "text/html": [
       "<div>\n",
       "<style scoped>\n",
       "    .dataframe tbody tr th:only-of-type {\n",
       "        vertical-align: middle;\n",
       "    }\n",
       "\n",
       "    .dataframe tbody tr th {\n",
       "        vertical-align: top;\n",
       "    }\n",
       "\n",
       "    .dataframe thead th {\n",
       "        text-align: right;\n",
       "    }\n",
       "</style>\n",
       "<table border=\"1\" class=\"dataframe\">\n",
       "  <thead>\n",
       "    <tr style=\"text-align: right;\">\n",
       "      <th></th>\n",
       "      <th>id</th>\n",
       "      <th>tid1</th>\n",
       "      <th>tid2</th>\n",
       "      <th>title1_en</th>\n",
       "      <th>title2_en</th>\n",
       "      <th>label</th>\n",
       "    </tr>\n",
       "  </thead>\n",
       "  <tbody>\n",
       "    <tr>\n",
       "      <th>count</th>\n",
       "      <td>256442.000000</td>\n",
       "      <td>256442.000000</td>\n",
       "      <td>256442.000000</td>\n",
       "      <td>256442</td>\n",
       "      <td>256442</td>\n",
       "      <td>256442</td>\n",
       "    </tr>\n",
       "    <tr>\n",
       "      <th>unique</th>\n",
       "      <td>NaN</td>\n",
       "      <td>NaN</td>\n",
       "      <td>NaN</td>\n",
       "      <td>62697</td>\n",
       "      <td>122492</td>\n",
       "      <td>3</td>\n",
       "    </tr>\n",
       "    <tr>\n",
       "      <th>top</th>\n",
       "      <td>NaN</td>\n",
       "      <td>NaN</td>\n",
       "      <td>NaN</td>\n",
       "      <td>Someone from the People's Hospital of Cengxi C...</td>\n",
       "      <td>The world's first talking dog shocked 6 billio...</td>\n",
       "      <td>unrelated</td>\n",
       "    </tr>\n",
       "    <tr>\n",
       "      <th>freq</th>\n",
       "      <td>NaN</td>\n",
       "      <td>NaN</td>\n",
       "      <td>NaN</td>\n",
       "      <td>607</td>\n",
       "      <td>49</td>\n",
       "      <td>175598</td>\n",
       "    </tr>\n",
       "    <tr>\n",
       "      <th>mean</th>\n",
       "      <td>128220.500000</td>\n",
       "      <td>85063.728434</td>\n",
       "      <td>69712.542399</td>\n",
       "      <td>NaN</td>\n",
       "      <td>NaN</td>\n",
       "      <td>NaN</td>\n",
       "    </tr>\n",
       "    <tr>\n",
       "      <th>std</th>\n",
       "      <td>74028.573203</td>\n",
       "      <td>48402.199542</td>\n",
       "      <td>45481.347050</td>\n",
       "      <td>NaN</td>\n",
       "      <td>NaN</td>\n",
       "      <td>NaN</td>\n",
       "    </tr>\n",
       "    <tr>\n",
       "      <th>min</th>\n",
       "      <td>0.000000</td>\n",
       "      <td>0.000000</td>\n",
       "      <td>1.000000</td>\n",
       "      <td>NaN</td>\n",
       "      <td>NaN</td>\n",
       "      <td>NaN</td>\n",
       "    </tr>\n",
       "    <tr>\n",
       "      <th>25%</th>\n",
       "      <td>64110.250000</td>\n",
       "      <td>44052.000000</td>\n",
       "      <td>30619.000000</td>\n",
       "      <td>NaN</td>\n",
       "      <td>NaN</td>\n",
       "      <td>NaN</td>\n",
       "    </tr>\n",
       "    <tr>\n",
       "      <th>50%</th>\n",
       "      <td>128220.500000</td>\n",
       "      <td>85487.000000</td>\n",
       "      <td>63750.000000</td>\n",
       "      <td>NaN</td>\n",
       "      <td>NaN</td>\n",
       "      <td>NaN</td>\n",
       "    </tr>\n",
       "    <tr>\n",
       "      <th>75%</th>\n",
       "      <td>192330.750000</td>\n",
       "      <td>127504.000000</td>\n",
       "      <td>105255.750000</td>\n",
       "      <td>NaN</td>\n",
       "      <td>NaN</td>\n",
       "      <td>NaN</td>\n",
       "    </tr>\n",
       "    <tr>\n",
       "      <th>max</th>\n",
       "      <td>256441.000000</td>\n",
       "      <td>167563.000000</td>\n",
       "      <td>167557.000000</td>\n",
       "      <td>NaN</td>\n",
       "      <td>NaN</td>\n",
       "      <td>NaN</td>\n",
       "    </tr>\n",
       "  </tbody>\n",
       "</table>\n",
       "</div>"
      ],
      "text/plain": [
       "                   id           tid1           tid2  \\\n",
       "count   256442.000000  256442.000000  256442.000000   \n",
       "unique            NaN            NaN            NaN   \n",
       "top               NaN            NaN            NaN   \n",
       "freq              NaN            NaN            NaN   \n",
       "mean    128220.500000   85063.728434   69712.542399   \n",
       "std      74028.573203   48402.199542   45481.347050   \n",
       "min          0.000000       0.000000       1.000000   \n",
       "25%      64110.250000   44052.000000   30619.000000   \n",
       "50%     128220.500000   85487.000000   63750.000000   \n",
       "75%     192330.750000  127504.000000  105255.750000   \n",
       "max     256441.000000  167563.000000  167557.000000   \n",
       "\n",
       "                                                title1_en  \\\n",
       "count                                              256442   \n",
       "unique                                              62697   \n",
       "top     Someone from the People's Hospital of Cengxi C...   \n",
       "freq                                                  607   \n",
       "mean                                                  NaN   \n",
       "std                                                   NaN   \n",
       "min                                                   NaN   \n",
       "25%                                                   NaN   \n",
       "50%                                                   NaN   \n",
       "75%                                                   NaN   \n",
       "max                                                   NaN   \n",
       "\n",
       "                                                title2_en      label  \n",
       "count                                              256442     256442  \n",
       "unique                                             122492          3  \n",
       "top     The world's first talking dog shocked 6 billio...  unrelated  \n",
       "freq                                                   49     175598  \n",
       "mean                                                  NaN        NaN  \n",
       "std                                                   NaN        NaN  \n",
       "min                                                   NaN        NaN  \n",
       "25%                                                   NaN        NaN  \n",
       "50%                                                   NaN        NaN  \n",
       "75%                                                   NaN        NaN  \n",
       "max                                                   NaN        NaN  "
      ]
     },
     "execution_count": 8,
     "metadata": {},
     "output_type": "execute_result"
    }
   ],
   "source": [
    "train_data.describe(include=\"all\")"
   ]
  },
  {
   "cell_type": "code",
   "execution_count": 9,
   "id": "da84b08a",
   "metadata": {},
   "outputs": [],
   "source": [
    "train_data.drop(['tid1', 'tid2', 'id'], axis=1, inplace=True)\n",
    "train_data.dropna(inplace = True)"
   ]
  },
  {
   "cell_type": "code",
   "execution_count": 10,
   "id": "5ae48900",
   "metadata": {},
   "outputs": [
    {
     "data": {
      "text/html": [
       "<div>\n",
       "<style scoped>\n",
       "    .dataframe tbody tr th:only-of-type {\n",
       "        vertical-align: middle;\n",
       "    }\n",
       "\n",
       "    .dataframe tbody tr th {\n",
       "        vertical-align: top;\n",
       "    }\n",
       "\n",
       "    .dataframe thead th {\n",
       "        text-align: right;\n",
       "    }\n",
       "</style>\n",
       "<table border=\"1\" class=\"dataframe\">\n",
       "  <thead>\n",
       "    <tr style=\"text-align: right;\">\n",
       "      <th></th>\n",
       "      <th>title1_en</th>\n",
       "      <th>title2_en</th>\n",
       "      <th>label</th>\n",
       "    </tr>\n",
       "  </thead>\n",
       "  <tbody>\n",
       "    <tr>\n",
       "      <th>0</th>\n",
       "      <td>There are two new old-age insurance benefits f...</td>\n",
       "      <td>Police disprove \"bird's nest congress each per...</td>\n",
       "      <td>unrelated</td>\n",
       "    </tr>\n",
       "    <tr>\n",
       "      <th>1</th>\n",
       "      <td>\"If you do not come to Shenzhen, sooner or lat...</td>\n",
       "      <td>Shenzhen's GDP outstrips Hong Kong? Shenzhen S...</td>\n",
       "      <td>unrelated</td>\n",
       "    </tr>\n",
       "    <tr>\n",
       "      <th>2</th>\n",
       "      <td>\"If you do not come to Shenzhen, sooner or lat...</td>\n",
       "      <td>The GDP overtopped Hong Kong? Shenzhen clarifi...</td>\n",
       "      <td>unrelated</td>\n",
       "    </tr>\n",
       "    <tr>\n",
       "      <th>3</th>\n",
       "      <td>\"If you do not come to Shenzhen, sooner or lat...</td>\n",
       "      <td>Shenzhen's GDP overtakes Hong Kong? Bureau of ...</td>\n",
       "      <td>unrelated</td>\n",
       "    </tr>\n",
       "    <tr>\n",
       "      <th>4</th>\n",
       "      <td>\"If you do not come to Shenzhen, sooner or lat...</td>\n",
       "      <td>Shenzhen's GDP outpaces Hong Kong? Defending R...</td>\n",
       "      <td>unrelated</td>\n",
       "    </tr>\n",
       "    <tr>\n",
       "      <th>...</th>\n",
       "      <td>...</td>\n",
       "      <td>...</td>\n",
       "      <td>...</td>\n",
       "    </tr>\n",
       "    <tr>\n",
       "      <th>256437</th>\n",
       "      <td>egypt 's presidential election failed to win m...</td>\n",
       "      <td>Salah is retiring? Football Association offici...</td>\n",
       "      <td>unrelated</td>\n",
       "    </tr>\n",
       "    <tr>\n",
       "      <th>256438</th>\n",
       "      <td>egypt 's presidential election failed to win m...</td>\n",
       "      <td>Liverpool's bid for Little Germany? The Echo's...</td>\n",
       "      <td>unrelated</td>\n",
       "    </tr>\n",
       "    <tr>\n",
       "      <th>256439</th>\n",
       "      <td>egypt 's presidential election failed to win m...</td>\n",
       "      <td>West Media Exposing Tallahlach has been recomm...</td>\n",
       "      <td>unrelated</td>\n",
       "    </tr>\n",
       "    <tr>\n",
       "      <th>256440</th>\n",
       "      <td>egypt 's presidential election failed to win m...</td>\n",
       "      <td>Rumor has it that Egypt is very united and the...</td>\n",
       "      <td>unrelated</td>\n",
       "    </tr>\n",
       "    <tr>\n",
       "      <th>256441</th>\n",
       "      <td>Will the United States wage war on Iraq withou...</td>\n",
       "      <td>Saddam's daughter refutes rumors: no. 2 of Sad...</td>\n",
       "      <td>unrelated</td>\n",
       "    </tr>\n",
       "  </tbody>\n",
       "</table>\n",
       "<p>256442 rows × 3 columns</p>\n",
       "</div>"
      ],
      "text/plain": [
       "                                                title1_en  \\\n",
       "0       There are two new old-age insurance benefits f...   \n",
       "1       \"If you do not come to Shenzhen, sooner or lat...   \n",
       "2       \"If you do not come to Shenzhen, sooner or lat...   \n",
       "3       \"If you do not come to Shenzhen, sooner or lat...   \n",
       "4       \"If you do not come to Shenzhen, sooner or lat...   \n",
       "...                                                   ...   \n",
       "256437  egypt 's presidential election failed to win m...   \n",
       "256438  egypt 's presidential election failed to win m...   \n",
       "256439  egypt 's presidential election failed to win m...   \n",
       "256440  egypt 's presidential election failed to win m...   \n",
       "256441  Will the United States wage war on Iraq withou...   \n",
       "\n",
       "                                                title2_en      label  \n",
       "0       Police disprove \"bird's nest congress each per...  unrelated  \n",
       "1       Shenzhen's GDP outstrips Hong Kong? Shenzhen S...  unrelated  \n",
       "2       The GDP overtopped Hong Kong? Shenzhen clarifi...  unrelated  \n",
       "3       Shenzhen's GDP overtakes Hong Kong? Bureau of ...  unrelated  \n",
       "4       Shenzhen's GDP outpaces Hong Kong? Defending R...  unrelated  \n",
       "...                                                   ...        ...  \n",
       "256437  Salah is retiring? Football Association offici...  unrelated  \n",
       "256438  Liverpool's bid for Little Germany? The Echo's...  unrelated  \n",
       "256439  West Media Exposing Tallahlach has been recomm...  unrelated  \n",
       "256440  Rumor has it that Egypt is very united and the...  unrelated  \n",
       "256441  Saddam's daughter refutes rumors: no. 2 of Sad...  unrelated  \n",
       "\n",
       "[256442 rows x 3 columns]"
      ]
     },
     "execution_count": 10,
     "metadata": {},
     "output_type": "execute_result"
    }
   ],
   "source": [
    "train_data"
   ]
  },
  {
   "cell_type": "code",
   "execution_count": 11,
   "id": "ea39708f",
   "metadata": {},
   "outputs": [],
   "source": [
    "train_data['title1_en'] = train_data['title1_en'].apply(lambda x: x.lower())\n",
    "train_data['title2_en'] = train_data['title2_en'].apply(lambda x: x.lower())"
   ]
  },
  {
   "cell_type": "code",
   "execution_count": 12,
   "id": "5e9f7827",
   "metadata": {},
   "outputs": [
    {
     "data": {
      "text/html": [
       "<div>\n",
       "<style scoped>\n",
       "    .dataframe tbody tr th:only-of-type {\n",
       "        vertical-align: middle;\n",
       "    }\n",
       "\n",
       "    .dataframe tbody tr th {\n",
       "        vertical-align: top;\n",
       "    }\n",
       "\n",
       "    .dataframe thead th {\n",
       "        text-align: right;\n",
       "    }\n",
       "</style>\n",
       "<table border=\"1\" class=\"dataframe\">\n",
       "  <thead>\n",
       "    <tr style=\"text-align: right;\">\n",
       "      <th></th>\n",
       "      <th>title1_en</th>\n",
       "      <th>title2_en</th>\n",
       "      <th>label</th>\n",
       "    </tr>\n",
       "  </thead>\n",
       "  <tbody>\n",
       "    <tr>\n",
       "      <th>0</th>\n",
       "      <td>there are two new old-age insurance benefits f...</td>\n",
       "      <td>police disprove \"bird's nest congress each per...</td>\n",
       "      <td>unrelated</td>\n",
       "    </tr>\n",
       "    <tr>\n",
       "      <th>1</th>\n",
       "      <td>\"if you do not come to shenzhen, sooner or lat...</td>\n",
       "      <td>shenzhen's gdp outstrips hong kong? shenzhen s...</td>\n",
       "      <td>unrelated</td>\n",
       "    </tr>\n",
       "    <tr>\n",
       "      <th>2</th>\n",
       "      <td>\"if you do not come to shenzhen, sooner or lat...</td>\n",
       "      <td>the gdp overtopped hong kong? shenzhen clarifi...</td>\n",
       "      <td>unrelated</td>\n",
       "    </tr>\n",
       "    <tr>\n",
       "      <th>3</th>\n",
       "      <td>\"if you do not come to shenzhen, sooner or lat...</td>\n",
       "      <td>shenzhen's gdp overtakes hong kong? bureau of ...</td>\n",
       "      <td>unrelated</td>\n",
       "    </tr>\n",
       "    <tr>\n",
       "      <th>4</th>\n",
       "      <td>\"if you do not come to shenzhen, sooner or lat...</td>\n",
       "      <td>shenzhen's gdp outpaces hong kong? defending r...</td>\n",
       "      <td>unrelated</td>\n",
       "    </tr>\n",
       "    <tr>\n",
       "      <th>...</th>\n",
       "      <td>...</td>\n",
       "      <td>...</td>\n",
       "      <td>...</td>\n",
       "    </tr>\n",
       "    <tr>\n",
       "      <th>256437</th>\n",
       "      <td>egypt 's presidential election failed to win m...</td>\n",
       "      <td>salah is retiring? football association offici...</td>\n",
       "      <td>unrelated</td>\n",
       "    </tr>\n",
       "    <tr>\n",
       "      <th>256438</th>\n",
       "      <td>egypt 's presidential election failed to win m...</td>\n",
       "      <td>liverpool's bid for little germany? the echo's...</td>\n",
       "      <td>unrelated</td>\n",
       "    </tr>\n",
       "    <tr>\n",
       "      <th>256439</th>\n",
       "      <td>egypt 's presidential election failed to win m...</td>\n",
       "      <td>west media exposing tallahlach has been recomm...</td>\n",
       "      <td>unrelated</td>\n",
       "    </tr>\n",
       "    <tr>\n",
       "      <th>256440</th>\n",
       "      <td>egypt 's presidential election failed to win m...</td>\n",
       "      <td>rumor has it that egypt is very united and the...</td>\n",
       "      <td>unrelated</td>\n",
       "    </tr>\n",
       "    <tr>\n",
       "      <th>256441</th>\n",
       "      <td>will the united states wage war on iraq withou...</td>\n",
       "      <td>saddam's daughter refutes rumors: no. 2 of sad...</td>\n",
       "      <td>unrelated</td>\n",
       "    </tr>\n",
       "  </tbody>\n",
       "</table>\n",
       "<p>256442 rows × 3 columns</p>\n",
       "</div>"
      ],
      "text/plain": [
       "                                                title1_en  \\\n",
       "0       there are two new old-age insurance benefits f...   \n",
       "1       \"if you do not come to shenzhen, sooner or lat...   \n",
       "2       \"if you do not come to shenzhen, sooner or lat...   \n",
       "3       \"if you do not come to shenzhen, sooner or lat...   \n",
       "4       \"if you do not come to shenzhen, sooner or lat...   \n",
       "...                                                   ...   \n",
       "256437  egypt 's presidential election failed to win m...   \n",
       "256438  egypt 's presidential election failed to win m...   \n",
       "256439  egypt 's presidential election failed to win m...   \n",
       "256440  egypt 's presidential election failed to win m...   \n",
       "256441  will the united states wage war on iraq withou...   \n",
       "\n",
       "                                                title2_en      label  \n",
       "0       police disprove \"bird's nest congress each per...  unrelated  \n",
       "1       shenzhen's gdp outstrips hong kong? shenzhen s...  unrelated  \n",
       "2       the gdp overtopped hong kong? shenzhen clarifi...  unrelated  \n",
       "3       shenzhen's gdp overtakes hong kong? bureau of ...  unrelated  \n",
       "4       shenzhen's gdp outpaces hong kong? defending r...  unrelated  \n",
       "...                                                   ...        ...  \n",
       "256437  salah is retiring? football association offici...  unrelated  \n",
       "256438  liverpool's bid for little germany? the echo's...  unrelated  \n",
       "256439  west media exposing tallahlach has been recomm...  unrelated  \n",
       "256440  rumor has it that egypt is very united and the...  unrelated  \n",
       "256441  saddam's daughter refutes rumors: no. 2 of sad...  unrelated  \n",
       "\n",
       "[256442 rows x 3 columns]"
      ]
     },
     "execution_count": 12,
     "metadata": {},
     "output_type": "execute_result"
    }
   ],
   "source": [
    "train_data"
   ]
  },
  {
   "cell_type": "markdown",
   "id": "7efb0f39",
   "metadata": {},
   "source": [
    "The function called \"stemming\" that takes a piece of text (the \"content\" parameter) as input and returns the stemmed version of the text. Stemming is the process of reducing words to their root or base form, which can be useful for tasks such as text classification or information retrieval.\n",
    "\n",
    "The function first initializes an instance of the PorterStemmer class from the nltk library. This stemmer applies a set of rules to reduce words to their stems.\n",
    "\n",
    "Next, the function removes all characters that are not letters of the alphabet from the input text using a regular expression. The text is then converted to lowercase and split into a list of individual words.\n",
    "\n",
    "The function then applies stemming to each word in the list, excluding any words that appear in the stopwords.words('english') list. This list contains common English words (such as \"the\" and \"and\") that are often excluded from text analysis tasks.\n",
    "\n",
    "Finally, the stemmed words are joined back together into a single string and returned as the output of the function."
   ]
  },
  {
   "cell_type": "code",
   "execution_count": 13,
   "id": "d8a26183",
   "metadata": {},
   "outputs": [],
   "source": [
    "portstem = PorterStemmer()"
   ]
  },
  {
   "cell_type": "code",
   "execution_count": 14,
   "id": "032e7994",
   "metadata": {},
   "outputs": [],
   "source": [
    "def stemming(content):\n",
    "    stemmed_content = re.sub('[^a-zA-Z]',' ',content)\n",
    "    stemmed_content = stemmed_content.lower()\n",
    "    stemmed_content = stemmed_content.split()\n",
    "    stemmed_content = [portstem.stem(word) for word in stemmed_content if not word in stopwords.words('english')]\n",
    "    stemmed_content = ' '.join(stemmed_content)\n",
    "    return stemmed_content"
   ]
  },
  {
   "cell_type": "code",
   "execution_count": 15,
   "id": "a7ffaecf",
   "metadata": {},
   "outputs": [],
   "source": [
    "train_data['title1_en'] = train_data['title1_en'].apply(stemming)\n",
    "train_data['title2_en'] = train_data['title2_en'].apply(stemming)"
   ]
  },
  {
   "cell_type": "code",
   "execution_count": 16,
   "id": "257ae78d",
   "metadata": {},
   "outputs": [
    {
     "data": {
      "text/html": [
       "<div>\n",
       "<style scoped>\n",
       "    .dataframe tbody tr th:only-of-type {\n",
       "        vertical-align: middle;\n",
       "    }\n",
       "\n",
       "    .dataframe tbody tr th {\n",
       "        vertical-align: top;\n",
       "    }\n",
       "\n",
       "    .dataframe thead th {\n",
       "        text-align: right;\n",
       "    }\n",
       "</style>\n",
       "<table border=\"1\" class=\"dataframe\">\n",
       "  <thead>\n",
       "    <tr style=\"text-align: right;\">\n",
       "      <th></th>\n",
       "      <th>title1_en</th>\n",
       "      <th>title2_en</th>\n",
       "      <th>label</th>\n",
       "    </tr>\n",
       "  </thead>\n",
       "  <tbody>\n",
       "    <tr>\n",
       "      <th>0</th>\n",
       "      <td>two new old age insur benefit old peopl rural ...</td>\n",
       "      <td>polic disprov bird nest congress person get yu...</td>\n",
       "      <td>unrelated</td>\n",
       "    </tr>\n",
       "    <tr>\n",
       "      <th>1</th>\n",
       "      <td>come shenzhen sooner later son also come less ...</td>\n",
       "      <td>shenzhen gdp outstrip hong kong shenzhen stati...</td>\n",
       "      <td>unrelated</td>\n",
       "    </tr>\n",
       "    <tr>\n",
       "      <th>2</th>\n",
       "      <td>come shenzhen sooner later son also come less ...</td>\n",
       "      <td>gdp overtop hong kong shenzhen clarifi littl bit</td>\n",
       "      <td>unrelated</td>\n",
       "    </tr>\n",
       "    <tr>\n",
       "      <th>3</th>\n",
       "      <td>come shenzhen sooner later son also come less ...</td>\n",
       "      <td>shenzhen gdp overtak hong kong bureau statist ...</td>\n",
       "      <td>unrelated</td>\n",
       "    </tr>\n",
       "    <tr>\n",
       "      <th>4</th>\n",
       "      <td>come shenzhen sooner later son also come less ...</td>\n",
       "      <td>shenzhen gdp outpac hong kong defend rumor gap...</td>\n",
       "      <td>unrelated</td>\n",
       "    </tr>\n",
       "    <tr>\n",
       "      <th>...</th>\n",
       "      <td>...</td>\n",
       "      <td>...</td>\n",
       "      <td>...</td>\n",
       "    </tr>\n",
       "    <tr>\n",
       "      <th>256437</th>\n",
       "      <td>egypt presidenti elect fail win million vote e...</td>\n",
       "      <td>salah retir footbal associ offici lie</td>\n",
       "      <td>unrelated</td>\n",
       "    </tr>\n",
       "    <tr>\n",
       "      <th>256438</th>\n",
       "      <td>egypt presidenti elect fail win million vote e...</td>\n",
       "      <td>liverpool bid littl germani echo disclaim summer</td>\n",
       "      <td>unrelated</td>\n",
       "    </tr>\n",
       "    <tr>\n",
       "      <th>256439</th>\n",
       "      <td>egypt presidenti elect fail win million vote e...</td>\n",
       "      <td>west media expos tallahlach recommend barca ag...</td>\n",
       "      <td>unrelated</td>\n",
       "    </tr>\n",
       "    <tr>\n",
       "      <th>256440</th>\n",
       "      <td>egypt presidenti elect fail win million vote e...</td>\n",
       "      <td>rumor egypt unit differ us</td>\n",
       "      <td>unrelated</td>\n",
       "    </tr>\n",
       "    <tr>\n",
       "      <th>256441</th>\n",
       "      <td>unit state wage war iraq without destruct sadd...</td>\n",
       "      <td>saddam daughter refut rumor saddam regim surviv</td>\n",
       "      <td>unrelated</td>\n",
       "    </tr>\n",
       "  </tbody>\n",
       "</table>\n",
       "<p>256442 rows × 3 columns</p>\n",
       "</div>"
      ],
      "text/plain": [
       "                                                title1_en  \\\n",
       "0       two new old age insur benefit old peopl rural ...   \n",
       "1       come shenzhen sooner later son also come less ...   \n",
       "2       come shenzhen sooner later son also come less ...   \n",
       "3       come shenzhen sooner later son also come less ...   \n",
       "4       come shenzhen sooner later son also come less ...   \n",
       "...                                                   ...   \n",
       "256437  egypt presidenti elect fail win million vote e...   \n",
       "256438  egypt presidenti elect fail win million vote e...   \n",
       "256439  egypt presidenti elect fail win million vote e...   \n",
       "256440  egypt presidenti elect fail win million vote e...   \n",
       "256441  unit state wage war iraq without destruct sadd...   \n",
       "\n",
       "                                                title2_en      label  \n",
       "0       polic disprov bird nest congress person get yu...  unrelated  \n",
       "1       shenzhen gdp outstrip hong kong shenzhen stati...  unrelated  \n",
       "2        gdp overtop hong kong shenzhen clarifi littl bit  unrelated  \n",
       "3       shenzhen gdp overtak hong kong bureau statist ...  unrelated  \n",
       "4       shenzhen gdp outpac hong kong defend rumor gap...  unrelated  \n",
       "...                                                   ...        ...  \n",
       "256437              salah retir footbal associ offici lie  unrelated  \n",
       "256438   liverpool bid littl germani echo disclaim summer  unrelated  \n",
       "256439  west media expos tallahlach recommend barca ag...  unrelated  \n",
       "256440                         rumor egypt unit differ us  unrelated  \n",
       "256441    saddam daughter refut rumor saddam regim surviv  unrelated  \n",
       "\n",
       "[256442 rows x 3 columns]"
      ]
     },
     "execution_count": 16,
     "metadata": {},
     "output_type": "execute_result"
    }
   ],
   "source": [
    "train_data"
   ]
  },
  {
   "cell_type": "code",
   "execution_count": 18,
   "id": "3e2924e1",
   "metadata": {},
   "outputs": [],
   "source": [
    "x_train = train_data.iloc[:, :-1]\n",
    "y_train = train_data.iloc[:, -1]"
   ]
  },
  {
   "cell_type": "code",
   "execution_count": 19,
   "id": "59ea1ff8",
   "metadata": {},
   "outputs": [
    {
     "data": {
      "text/html": [
       "<div>\n",
       "<style scoped>\n",
       "    .dataframe tbody tr th:only-of-type {\n",
       "        vertical-align: middle;\n",
       "    }\n",
       "\n",
       "    .dataframe tbody tr th {\n",
       "        vertical-align: top;\n",
       "    }\n",
       "\n",
       "    .dataframe thead th {\n",
       "        text-align: right;\n",
       "    }\n",
       "</style>\n",
       "<table border=\"1\" class=\"dataframe\">\n",
       "  <thead>\n",
       "    <tr style=\"text-align: right;\">\n",
       "      <th></th>\n",
       "      <th>title1_en</th>\n",
       "      <th>title2_en</th>\n",
       "    </tr>\n",
       "  </thead>\n",
       "  <tbody>\n",
       "    <tr>\n",
       "      <th>0</th>\n",
       "      <td>two new old age insur benefit old peopl rural ...</td>\n",
       "      <td>polic disprov bird nest congress person get yu...</td>\n",
       "    </tr>\n",
       "    <tr>\n",
       "      <th>1</th>\n",
       "      <td>come shenzhen sooner later son also come less ...</td>\n",
       "      <td>shenzhen gdp outstrip hong kong shenzhen stati...</td>\n",
       "    </tr>\n",
       "    <tr>\n",
       "      <th>2</th>\n",
       "      <td>come shenzhen sooner later son also come less ...</td>\n",
       "      <td>gdp overtop hong kong shenzhen clarifi littl bit</td>\n",
       "    </tr>\n",
       "    <tr>\n",
       "      <th>3</th>\n",
       "      <td>come shenzhen sooner later son also come less ...</td>\n",
       "      <td>shenzhen gdp overtak hong kong bureau statist ...</td>\n",
       "    </tr>\n",
       "    <tr>\n",
       "      <th>4</th>\n",
       "      <td>come shenzhen sooner later son also come less ...</td>\n",
       "      <td>shenzhen gdp outpac hong kong defend rumor gap...</td>\n",
       "    </tr>\n",
       "  </tbody>\n",
       "</table>\n",
       "</div>"
      ],
      "text/plain": [
       "                                           title1_en  \\\n",
       "0  two new old age insur benefit old peopl rural ...   \n",
       "1  come shenzhen sooner later son also come less ...   \n",
       "2  come shenzhen sooner later son also come less ...   \n",
       "3  come shenzhen sooner later son also come less ...   \n",
       "4  come shenzhen sooner later son also come less ...   \n",
       "\n",
       "                                           title2_en  \n",
       "0  polic disprov bird nest congress person get yu...  \n",
       "1  shenzhen gdp outstrip hong kong shenzhen stati...  \n",
       "2   gdp overtop hong kong shenzhen clarifi littl bit  \n",
       "3  shenzhen gdp overtak hong kong bureau statist ...  \n",
       "4  shenzhen gdp outpac hong kong defend rumor gap...  "
      ]
     },
     "execution_count": 19,
     "metadata": {},
     "output_type": "execute_result"
    }
   ],
   "source": [
    "x_train.head()"
   ]
  },
  {
   "cell_type": "code",
   "execution_count": 20,
   "id": "c86ed6ff",
   "metadata": {},
   "outputs": [
    {
     "data": {
      "text/plain": [
       "0    unrelated\n",
       "1    unrelated\n",
       "2    unrelated\n",
       "3    unrelated\n",
       "4    unrelated\n",
       "Name: label, dtype: object"
      ]
     },
     "execution_count": 20,
     "metadata": {},
     "output_type": "execute_result"
    }
   ],
   "source": [
    "y_train.head()"
   ]
  },
  {
   "cell_type": "code",
   "execution_count": 21,
   "id": "e6c27e68",
   "metadata": {},
   "outputs": [],
   "source": [
    "#converting text data to numerical data\n",
    "vectorizer = TfidfVectorizer()\n",
    "\n",
    "# Fit the vectorizer on the training data\n",
    "vectorizer.fit(pd.concat([x_train['title1_en'], x_train['title2_en']]))\n",
    "\n",
    "title1 = vectorizer.transform(x_train['title1_en'])\n",
    "title2 = vectorizer.transform(x_train['title2_en'])"
   ]
  },
  {
   "cell_type": "code",
   "execution_count": 22,
   "id": "a70fe1d9",
   "metadata": {},
   "outputs": [],
   "source": [
    "sparse_matrix = hstack([title1, title2])"
   ]
  },
  {
   "cell_type": "code",
   "execution_count": 23,
   "id": "0ab96ea8",
   "metadata": {},
   "outputs": [
    {
     "data": {
      "text/plain": [
       "<256442x55276 sparse matrix of type '<class 'numpy.float64'>'\n",
       "\twith 4772961 stored elements in Compressed Sparse Row format>"
      ]
     },
     "execution_count": 23,
     "metadata": {},
     "output_type": "execute_result"
    }
   ],
   "source": [
    "sparse_matrix"
   ]
  },
  {
   "cell_type": "markdown",
   "id": "a545dd6a",
   "metadata": {},
   "source": [
    "## Model Selection"
   ]
  },
  {
   "cell_type": "markdown",
   "id": "4e756159",
   "metadata": {},
   "source": [
    "### Model 1 - Logistic Regression"
   ]
  },
  {
   "cell_type": "code",
   "execution_count": 25,
   "id": "94c3980e",
   "metadata": {},
   "outputs": [],
   "source": [
    "# Libraries for the model\n",
    "from sklearn.linear_model import LogisticRegression\n",
    "from sklearn.model_selection import train_test_split\n",
    "from sklearn.metrics import classification_report\n",
    "from sklearn.ensemble import RandomForestClassifier\n",
    "from sklearn.tree import DecisionTreeClassifier"
   ]
  },
  {
   "cell_type": "code",
   "execution_count": 26,
   "id": "25839904",
   "metadata": {},
   "outputs": [],
   "source": [
    "# Test - Train split of train_data\n",
    "x = sparse_matrix\n",
    "y = y_train\n",
    "x_train, x_test, y_train, y_test = train_test_split(x, y, test_size=0.2, random_state=10)"
   ]
  },
  {
   "cell_type": "code",
   "execution_count": 27,
   "id": "24a9fa5a",
   "metadata": {},
   "outputs": [],
   "source": [
    "Logisticmodel = LogisticRegression(multi_class='multinomial', solver='lbfgs', max_iter=1000, random_state=10)\n"
   ]
  },
  {
   "cell_type": "code",
   "execution_count": 28,
   "id": "797dcc45",
   "metadata": {},
   "outputs": [
    {
     "data": {
      "text/html": [
       "<style>#sk-container-id-1 {color: black;background-color: white;}#sk-container-id-1 pre{padding: 0;}#sk-container-id-1 div.sk-toggleable {background-color: white;}#sk-container-id-1 label.sk-toggleable__label {cursor: pointer;display: block;width: 100%;margin-bottom: 0;padding: 0.3em;box-sizing: border-box;text-align: center;}#sk-container-id-1 label.sk-toggleable__label-arrow:before {content: \"▸\";float: left;margin-right: 0.25em;color: #696969;}#sk-container-id-1 label.sk-toggleable__label-arrow:hover:before {color: black;}#sk-container-id-1 div.sk-estimator:hover label.sk-toggleable__label-arrow:before {color: black;}#sk-container-id-1 div.sk-toggleable__content {max-height: 0;max-width: 0;overflow: hidden;text-align: left;background-color: #f0f8ff;}#sk-container-id-1 div.sk-toggleable__content pre {margin: 0.2em;color: black;border-radius: 0.25em;background-color: #f0f8ff;}#sk-container-id-1 input.sk-toggleable__control:checked~div.sk-toggleable__content {max-height: 200px;max-width: 100%;overflow: auto;}#sk-container-id-1 input.sk-toggleable__control:checked~label.sk-toggleable__label-arrow:before {content: \"▾\";}#sk-container-id-1 div.sk-estimator input.sk-toggleable__control:checked~label.sk-toggleable__label {background-color: #d4ebff;}#sk-container-id-1 div.sk-label input.sk-toggleable__control:checked~label.sk-toggleable__label {background-color: #d4ebff;}#sk-container-id-1 input.sk-hidden--visually {border: 0;clip: rect(1px 1px 1px 1px);clip: rect(1px, 1px, 1px, 1px);height: 1px;margin: -1px;overflow: hidden;padding: 0;position: absolute;width: 1px;}#sk-container-id-1 div.sk-estimator {font-family: monospace;background-color: #f0f8ff;border: 1px dotted black;border-radius: 0.25em;box-sizing: border-box;margin-bottom: 0.5em;}#sk-container-id-1 div.sk-estimator:hover {background-color: #d4ebff;}#sk-container-id-1 div.sk-parallel-item::after {content: \"\";width: 100%;border-bottom: 1px solid gray;flex-grow: 1;}#sk-container-id-1 div.sk-label:hover label.sk-toggleable__label {background-color: #d4ebff;}#sk-container-id-1 div.sk-serial::before {content: \"\";position: absolute;border-left: 1px solid gray;box-sizing: border-box;top: 0;bottom: 0;left: 50%;z-index: 0;}#sk-container-id-1 div.sk-serial {display: flex;flex-direction: column;align-items: center;background-color: white;padding-right: 0.2em;padding-left: 0.2em;position: relative;}#sk-container-id-1 div.sk-item {position: relative;z-index: 1;}#sk-container-id-1 div.sk-parallel {display: flex;align-items: stretch;justify-content: center;background-color: white;position: relative;}#sk-container-id-1 div.sk-item::before, #sk-container-id-1 div.sk-parallel-item::before {content: \"\";position: absolute;border-left: 1px solid gray;box-sizing: border-box;top: 0;bottom: 0;left: 50%;z-index: -1;}#sk-container-id-1 div.sk-parallel-item {display: flex;flex-direction: column;z-index: 1;position: relative;background-color: white;}#sk-container-id-1 div.sk-parallel-item:first-child::after {align-self: flex-end;width: 50%;}#sk-container-id-1 div.sk-parallel-item:last-child::after {align-self: flex-start;width: 50%;}#sk-container-id-1 div.sk-parallel-item:only-child::after {width: 0;}#sk-container-id-1 div.sk-dashed-wrapped {border: 1px dashed gray;margin: 0 0.4em 0.5em 0.4em;box-sizing: border-box;padding-bottom: 0.4em;background-color: white;}#sk-container-id-1 div.sk-label label {font-family: monospace;font-weight: bold;display: inline-block;line-height: 1.2em;}#sk-container-id-1 div.sk-label-container {text-align: center;}#sk-container-id-1 div.sk-container {/* jupyter's `normalize.less` sets `[hidden] { display: none; }` but bootstrap.min.css set `[hidden] { display: none !important; }` so we also need the `!important` here to be able to override the default hidden behavior on the sphinx rendered scikit-learn.org. See: https://github.com/scikit-learn/scikit-learn/issues/21755 */display: inline-block !important;position: relative;}#sk-container-id-1 div.sk-text-repr-fallback {display: none;}</style><div id=\"sk-container-id-1\" class=\"sk-top-container\"><div class=\"sk-text-repr-fallback\"><pre>LogisticRegression(max_iter=1000, multi_class=&#x27;multinomial&#x27;, random_state=10)</pre><b>In a Jupyter environment, please rerun this cell to show the HTML representation or trust the notebook. <br />On GitHub, the HTML representation is unable to render, please try loading this page with nbviewer.org.</b></div><div class=\"sk-container\" hidden><div class=\"sk-item\"><div class=\"sk-estimator sk-toggleable\"><input class=\"sk-toggleable__control sk-hidden--visually\" id=\"sk-estimator-id-1\" type=\"checkbox\" checked><label for=\"sk-estimator-id-1\" class=\"sk-toggleable__label sk-toggleable__label-arrow\">LogisticRegression</label><div class=\"sk-toggleable__content\"><pre>LogisticRegression(max_iter=1000, multi_class=&#x27;multinomial&#x27;, random_state=10)</pre></div></div></div></div></div>"
      ],
      "text/plain": [
       "LogisticRegression(max_iter=1000, multi_class='multinomial', random_state=10)"
      ]
     },
     "execution_count": 28,
     "metadata": {},
     "output_type": "execute_result"
    }
   ],
   "source": [
    "# Fit the model to the training data\n",
    "Logisticmodel.fit(x_train, y_train)"
   ]
  },
  {
   "cell_type": "code",
   "execution_count": 29,
   "id": "f5be439c",
   "metadata": {},
   "outputs": [],
   "source": [
    "# Make predictions on the test data\n",
    "y_pred = Logisticmodel.predict(x_test)"
   ]
  },
  {
   "cell_type": "code",
   "execution_count": 30,
   "id": "cfe6df9d",
   "metadata": {},
   "outputs": [
    {
     "name": "stdout",
     "output_type": "stream",
     "text": [
      "              precision    recall  f1-score   support\n",
      "\n",
      "      agreed       0.71      0.62      0.66     14885\n",
      "   disagreed       0.74      0.26      0.39      1338\n",
      "   unrelated       0.83      0.89      0.86     35066\n",
      "\n",
      "    accuracy                           0.80     51289\n",
      "   macro avg       0.76      0.59      0.63     51289\n",
      "weighted avg       0.79      0.80      0.79     51289\n",
      "\n"
     ]
    }
   ],
   "source": [
    "# Evaluate the Logistic model\n",
    "print(classification_report(y_test, y_pred))"
   ]
  },
  {
   "cell_type": "markdown",
   "id": "d1e1ef17",
   "metadata": {},
   "source": [
    "## Logistic Model on Test.csv"
   ]
  },
  {
   "cell_type": "code",
   "execution_count": 31,
   "id": "f4420c56",
   "metadata": {},
   "outputs": [
    {
     "data": {
      "text/html": [
       "<div>\n",
       "<style scoped>\n",
       "    .dataframe tbody tr th:only-of-type {\n",
       "        vertical-align: middle;\n",
       "    }\n",
       "\n",
       "    .dataframe tbody tr th {\n",
       "        vertical-align: top;\n",
       "    }\n",
       "\n",
       "    .dataframe thead th {\n",
       "        text-align: right;\n",
       "    }\n",
       "</style>\n",
       "<table border=\"1\" class=\"dataframe\">\n",
       "  <thead>\n",
       "    <tr style=\"text-align: right;\">\n",
       "      <th></th>\n",
       "      <th>id</th>\n",
       "      <th>tid1</th>\n",
       "      <th>tid2</th>\n",
       "      <th>title1_en</th>\n",
       "      <th>title2_en</th>\n",
       "    </tr>\n",
       "  </thead>\n",
       "  <tbody>\n",
       "    <tr>\n",
       "      <th>0</th>\n",
       "      <td>256442</td>\n",
       "      <td>100672</td>\n",
       "      <td>100673</td>\n",
       "      <td>The great coat brother Zhu Zhu Wen, in the man...</td>\n",
       "      <td>Lin xinsheng after the birth of \"hard milking,...</td>\n",
       "    </tr>\n",
       "    <tr>\n",
       "      <th>1</th>\n",
       "      <td>256443</td>\n",
       "      <td>162269</td>\n",
       "      <td>162270</td>\n",
       "      <td>NASA reveals facts about UFO wreckage found on...</td>\n",
       "      <td>The UFO found in Yuancun, Jiaocheng County, Sh...</td>\n",
       "    </tr>\n",
       "    <tr>\n",
       "      <th>2</th>\n",
       "      <td>256444</td>\n",
       "      <td>157826</td>\n",
       "      <td>157854</td>\n",
       "      <td>The hollow tomatoes are loaded with hormones.</td>\n",
       "      <td>Li chenfan bingbing home photos, netizen: this...</td>\n",
       "    </tr>\n",
       "    <tr>\n",
       "      <th>3</th>\n",
       "      <td>256445</td>\n",
       "      <td>109579</td>\n",
       "      <td>74076</td>\n",
       "      <td>Ange Pavilion Geoshui: How accurate is Matrimo...</td>\n",
       "      <td>Master one: the eight-character presumption of...</td>\n",
       "    </tr>\n",
       "    <tr>\n",
       "      <th>4</th>\n",
       "      <td>256446</td>\n",
       "      <td>15068</td>\n",
       "      <td>15085</td>\n",
       "      <td>A 50-year-old bus-bus blows up an 8-year-old c...</td>\n",
       "      <td>&lt; i &gt; Joe Johnson's disgruntled timing and ord...</td>\n",
       "    </tr>\n",
       "  </tbody>\n",
       "</table>\n",
       "</div>"
      ],
      "text/plain": [
       "       id    tid1    tid2                                          title1_en  \\\n",
       "0  256442  100672  100673  The great coat brother Zhu Zhu Wen, in the man...   \n",
       "1  256443  162269  162270  NASA reveals facts about UFO wreckage found on...   \n",
       "2  256444  157826  157854      The hollow tomatoes are loaded with hormones.   \n",
       "3  256445  109579   74076  Ange Pavilion Geoshui: How accurate is Matrimo...   \n",
       "4  256446   15068   15085  A 50-year-old bus-bus blows up an 8-year-old c...   \n",
       "\n",
       "                                           title2_en  \n",
       "0  Lin xinsheng after the birth of \"hard milking,...  \n",
       "1  The UFO found in Yuancun, Jiaocheng County, Sh...  \n",
       "2  Li chenfan bingbing home photos, netizen: this...  \n",
       "3  Master one: the eight-character presumption of...  \n",
       "4  < i > Joe Johnson's disgruntled timing and ord...  "
      ]
     },
     "execution_count": 31,
     "metadata": {},
     "output_type": "execute_result"
    }
   ],
   "source": [
    "test_data.head()"
   ]
  },
  {
   "cell_type": "code",
   "execution_count": 32,
   "id": "be918c8a",
   "metadata": {},
   "outputs": [
    {
     "data": {
      "text/plain": [
       "(64110, 5)"
      ]
     },
     "execution_count": 32,
     "metadata": {},
     "output_type": "execute_result"
    }
   ],
   "source": [
    "test_data.shape"
   ]
  },
  {
   "cell_type": "code",
   "execution_count": 33,
   "id": "13a7cbaf",
   "metadata": {},
   "outputs": [],
   "source": [
    "test_data.drop(['tid1', 'tid2', 'id'], axis=1, inplace=True)\n",
    "test_data.dropna(inplace = True)"
   ]
  },
  {
   "cell_type": "code",
   "execution_count": 34,
   "id": "44cffa47",
   "metadata": {},
   "outputs": [],
   "source": [
    "test_data['title1_en'] = test_data['title1_en'].apply(lambda x: x.lower())\n",
    "test_data['title2_en'] = test_data['title2_en'].apply(lambda x: x.lower())"
   ]
  },
  {
   "cell_type": "code",
   "execution_count": 35,
   "id": "dd20573e",
   "metadata": {},
   "outputs": [
    {
     "data": {
      "text/html": [
       "<div>\n",
       "<style scoped>\n",
       "    .dataframe tbody tr th:only-of-type {\n",
       "        vertical-align: middle;\n",
       "    }\n",
       "\n",
       "    .dataframe tbody tr th {\n",
       "        vertical-align: top;\n",
       "    }\n",
       "\n",
       "    .dataframe thead th {\n",
       "        text-align: right;\n",
       "    }\n",
       "</style>\n",
       "<table border=\"1\" class=\"dataframe\">\n",
       "  <thead>\n",
       "    <tr style=\"text-align: right;\">\n",
       "      <th></th>\n",
       "      <th>title1_en</th>\n",
       "      <th>title2_en</th>\n",
       "    </tr>\n",
       "  </thead>\n",
       "  <tbody>\n",
       "    <tr>\n",
       "      <th>0</th>\n",
       "      <td>the great coat brother zhu zhu wen, in the man...</td>\n",
       "      <td>lin xinsheng after the birth of \"hard milking,...</td>\n",
       "    </tr>\n",
       "    <tr>\n",
       "      <th>1</th>\n",
       "      <td>nasa reveals facts about ufo wreckage found on...</td>\n",
       "      <td>the ufo found in yuancun, jiaocheng county, sh...</td>\n",
       "    </tr>\n",
       "    <tr>\n",
       "      <th>2</th>\n",
       "      <td>the hollow tomatoes are loaded with hormones.</td>\n",
       "      <td>li chenfan bingbing home photos, netizen: this...</td>\n",
       "    </tr>\n",
       "    <tr>\n",
       "      <th>3</th>\n",
       "      <td>ange pavilion geoshui: how accurate is matrimo...</td>\n",
       "      <td>master one: the eight-character presumption of...</td>\n",
       "    </tr>\n",
       "    <tr>\n",
       "      <th>4</th>\n",
       "      <td>a 50-year-old bus-bus blows up an 8-year-old c...</td>\n",
       "      <td>&lt; i &gt; joe johnson's disgruntled timing and ord...</td>\n",
       "    </tr>\n",
       "    <tr>\n",
       "      <th>...</th>\n",
       "      <td>...</td>\n",
       "      <td>...</td>\n",
       "    </tr>\n",
       "    <tr>\n",
       "      <th>64105</th>\n",
       "      <td>the lead content of domestic faucet exceeds th...</td>\n",
       "      <td>the multi-brand faucet is overtaxed, who is en...</td>\n",
       "    </tr>\n",
       "    <tr>\n",
       "      <th>64106</th>\n",
       "      <td>in 2018, the household registration system has...</td>\n",
       "      <td>in 2018, the household registration system wil...</td>\n",
       "    </tr>\n",
       "    <tr>\n",
       "      <th>64107</th>\n",
       "      <td>onion can not be eaten with this, serious also...</td>\n",
       "      <td>onion can not eat with this, serious also can ...</td>\n",
       "    </tr>\n",
       "    <tr>\n",
       "      <th>64108</th>\n",
       "      <td>grass-root teacher salaries, the last increase...</td>\n",
       "      <td>teachers wage reform, there will be these thre...</td>\n",
       "    </tr>\n",
       "    <tr>\n",
       "      <th>64109</th>\n",
       "      <td>li weijia weeping, crying, drugs? sick? see ho...</td>\n",
       "      <td>li weijia on the hot air, netizens: li weijia ...</td>\n",
       "    </tr>\n",
       "  </tbody>\n",
       "</table>\n",
       "<p>64110 rows × 2 columns</p>\n",
       "</div>"
      ],
      "text/plain": [
       "                                               title1_en  \\\n",
       "0      the great coat brother zhu zhu wen, in the man...   \n",
       "1      nasa reveals facts about ufo wreckage found on...   \n",
       "2          the hollow tomatoes are loaded with hormones.   \n",
       "3      ange pavilion geoshui: how accurate is matrimo...   \n",
       "4      a 50-year-old bus-bus blows up an 8-year-old c...   \n",
       "...                                                  ...   \n",
       "64105  the lead content of domestic faucet exceeds th...   \n",
       "64106  in 2018, the household registration system has...   \n",
       "64107  onion can not be eaten with this, serious also...   \n",
       "64108  grass-root teacher salaries, the last increase...   \n",
       "64109  li weijia weeping, crying, drugs? sick? see ho...   \n",
       "\n",
       "                                               title2_en  \n",
       "0      lin xinsheng after the birth of \"hard milking,...  \n",
       "1      the ufo found in yuancun, jiaocheng county, sh...  \n",
       "2      li chenfan bingbing home photos, netizen: this...  \n",
       "3      master one: the eight-character presumption of...  \n",
       "4      < i > joe johnson's disgruntled timing and ord...  \n",
       "...                                                  ...  \n",
       "64105  the multi-brand faucet is overtaxed, who is en...  \n",
       "64106  in 2018, the household registration system wil...  \n",
       "64107  onion can not eat with this, serious also can ...  \n",
       "64108  teachers wage reform, there will be these thre...  \n",
       "64109  li weijia on the hot air, netizens: li weijia ...  \n",
       "\n",
       "[64110 rows x 2 columns]"
      ]
     },
     "execution_count": 35,
     "metadata": {},
     "output_type": "execute_result"
    }
   ],
   "source": [
    "test_data"
   ]
  },
  {
   "cell_type": "code",
   "execution_count": 36,
   "id": "ac3aad61",
   "metadata": {},
   "outputs": [],
   "source": [
    "test_data['title1_en'] = test_data['title1_en'].apply(stemming)\n",
    "test_data['title2_en'] = test_data['title2_en'].apply(stemming)"
   ]
  },
  {
   "cell_type": "code",
   "execution_count": 37,
   "id": "26e7588d",
   "metadata": {},
   "outputs": [
    {
     "data": {
      "text/html": [
       "<div>\n",
       "<style scoped>\n",
       "    .dataframe tbody tr th:only-of-type {\n",
       "        vertical-align: middle;\n",
       "    }\n",
       "\n",
       "    .dataframe tbody tr th {\n",
       "        vertical-align: top;\n",
       "    }\n",
       "\n",
       "    .dataframe thead th {\n",
       "        text-align: right;\n",
       "    }\n",
       "</style>\n",
       "<table border=\"1\" class=\"dataframe\">\n",
       "  <thead>\n",
       "    <tr style=\"text-align: right;\">\n",
       "      <th></th>\n",
       "      <th>title1_en</th>\n",
       "      <th>title2_en</th>\n",
       "    </tr>\n",
       "  </thead>\n",
       "  <tbody>\n",
       "    <tr>\n",
       "      <th>0</th>\n",
       "      <td>great coat brother zhu zhu wen mandarin love s...</td>\n",
       "      <td>lin xinsheng birth hard milk huo jianhua seen ...</td>\n",
       "    </tr>\n",
       "    <tr>\n",
       "      <th>1</th>\n",
       "      <td>nasa reveal fact ufo wreckag found moon</td>\n",
       "      <td>ufo found yuancun jiaocheng counti shanxi shoc...</td>\n",
       "    </tr>\n",
       "    <tr>\n",
       "      <th>2</th>\n",
       "      <td>hollow tomato load hormon</td>\n",
       "      <td>li chenfan bingb home photo netizen call luxur...</td>\n",
       "    </tr>\n",
       "    <tr>\n",
       "      <th>3</th>\n",
       "      <td>ang pavilion geoshui accur matrimoni match mat...</td>\n",
       "      <td>master one eight charact presumpt marriag soon...</td>\n",
       "    </tr>\n",
       "    <tr>\n",
       "      <th>4</th>\n",
       "      <td>year old bu bu blow year old child rumor rumor...</td>\n",
       "      <td>joe johnson disgruntl time order myth</td>\n",
       "    </tr>\n",
       "  </tbody>\n",
       "</table>\n",
       "</div>"
      ],
      "text/plain": [
       "                                           title1_en  \\\n",
       "0  great coat brother zhu zhu wen mandarin love s...   \n",
       "1            nasa reveal fact ufo wreckag found moon   \n",
       "2                          hollow tomato load hormon   \n",
       "3  ang pavilion geoshui accur matrimoni match mat...   \n",
       "4  year old bu bu blow year old child rumor rumor...   \n",
       "\n",
       "                                           title2_en  \n",
       "0  lin xinsheng birth hard milk huo jianhua seen ...  \n",
       "1  ufo found yuancun jiaocheng counti shanxi shoc...  \n",
       "2  li chenfan bingb home photo netizen call luxur...  \n",
       "3  master one eight charact presumpt marriag soon...  \n",
       "4              joe johnson disgruntl time order myth  "
      ]
     },
     "execution_count": 37,
     "metadata": {},
     "output_type": "execute_result"
    }
   ],
   "source": [
    "test_data.head()"
   ]
  },
  {
   "cell_type": "code",
   "execution_count": 38,
   "id": "27197d5a",
   "metadata": {},
   "outputs": [],
   "source": [
    "title1 = vectorizer.transform(test_data['title1_en'])\n",
    "title2 = vectorizer.transform(test_data['title2_en'])"
   ]
  },
  {
   "cell_type": "code",
   "execution_count": 39,
   "id": "c28d1a40",
   "metadata": {},
   "outputs": [],
   "source": [
    "sparse_test_matrix = hstack([title1, title2])"
   ]
  },
  {
   "cell_type": "code",
   "execution_count": 40,
   "id": "475882ca",
   "metadata": {},
   "outputs": [],
   "source": [
    "y_test_pred_logisticmodel = Logisticmodel.predict(sparse_test_matrix)"
   ]
  },
  {
   "cell_type": "markdown",
   "id": "8ad03003",
   "metadata": {},
   "source": [
    "The logistic model appears to have decent performance on the given dataset."
   ]
  },
  {
   "cell_type": "markdown",
   "id": "5de44e0b",
   "metadata": {},
   "source": [
    "### Model 2 - Random Forest"
   ]
  },
  {
   "cell_type": "code",
   "execution_count": 41,
   "id": "9bc0bd7d",
   "metadata": {},
   "outputs": [
    {
     "data": {
      "text/html": [
       "<style>#sk-container-id-2 {color: black;background-color: white;}#sk-container-id-2 pre{padding: 0;}#sk-container-id-2 div.sk-toggleable {background-color: white;}#sk-container-id-2 label.sk-toggleable__label {cursor: pointer;display: block;width: 100%;margin-bottom: 0;padding: 0.3em;box-sizing: border-box;text-align: center;}#sk-container-id-2 label.sk-toggleable__label-arrow:before {content: \"▸\";float: left;margin-right: 0.25em;color: #696969;}#sk-container-id-2 label.sk-toggleable__label-arrow:hover:before {color: black;}#sk-container-id-2 div.sk-estimator:hover label.sk-toggleable__label-arrow:before {color: black;}#sk-container-id-2 div.sk-toggleable__content {max-height: 0;max-width: 0;overflow: hidden;text-align: left;background-color: #f0f8ff;}#sk-container-id-2 div.sk-toggleable__content pre {margin: 0.2em;color: black;border-radius: 0.25em;background-color: #f0f8ff;}#sk-container-id-2 input.sk-toggleable__control:checked~div.sk-toggleable__content {max-height: 200px;max-width: 100%;overflow: auto;}#sk-container-id-2 input.sk-toggleable__control:checked~label.sk-toggleable__label-arrow:before {content: \"▾\";}#sk-container-id-2 div.sk-estimator input.sk-toggleable__control:checked~label.sk-toggleable__label {background-color: #d4ebff;}#sk-container-id-2 div.sk-label input.sk-toggleable__control:checked~label.sk-toggleable__label {background-color: #d4ebff;}#sk-container-id-2 input.sk-hidden--visually {border: 0;clip: rect(1px 1px 1px 1px);clip: rect(1px, 1px, 1px, 1px);height: 1px;margin: -1px;overflow: hidden;padding: 0;position: absolute;width: 1px;}#sk-container-id-2 div.sk-estimator {font-family: monospace;background-color: #f0f8ff;border: 1px dotted black;border-radius: 0.25em;box-sizing: border-box;margin-bottom: 0.5em;}#sk-container-id-2 div.sk-estimator:hover {background-color: #d4ebff;}#sk-container-id-2 div.sk-parallel-item::after {content: \"\";width: 100%;border-bottom: 1px solid gray;flex-grow: 1;}#sk-container-id-2 div.sk-label:hover label.sk-toggleable__label {background-color: #d4ebff;}#sk-container-id-2 div.sk-serial::before {content: \"\";position: absolute;border-left: 1px solid gray;box-sizing: border-box;top: 0;bottom: 0;left: 50%;z-index: 0;}#sk-container-id-2 div.sk-serial {display: flex;flex-direction: column;align-items: center;background-color: white;padding-right: 0.2em;padding-left: 0.2em;position: relative;}#sk-container-id-2 div.sk-item {position: relative;z-index: 1;}#sk-container-id-2 div.sk-parallel {display: flex;align-items: stretch;justify-content: center;background-color: white;position: relative;}#sk-container-id-2 div.sk-item::before, #sk-container-id-2 div.sk-parallel-item::before {content: \"\";position: absolute;border-left: 1px solid gray;box-sizing: border-box;top: 0;bottom: 0;left: 50%;z-index: -1;}#sk-container-id-2 div.sk-parallel-item {display: flex;flex-direction: column;z-index: 1;position: relative;background-color: white;}#sk-container-id-2 div.sk-parallel-item:first-child::after {align-self: flex-end;width: 50%;}#sk-container-id-2 div.sk-parallel-item:last-child::after {align-self: flex-start;width: 50%;}#sk-container-id-2 div.sk-parallel-item:only-child::after {width: 0;}#sk-container-id-2 div.sk-dashed-wrapped {border: 1px dashed gray;margin: 0 0.4em 0.5em 0.4em;box-sizing: border-box;padding-bottom: 0.4em;background-color: white;}#sk-container-id-2 div.sk-label label {font-family: monospace;font-weight: bold;display: inline-block;line-height: 1.2em;}#sk-container-id-2 div.sk-label-container {text-align: center;}#sk-container-id-2 div.sk-container {/* jupyter's `normalize.less` sets `[hidden] { display: none; }` but bootstrap.min.css set `[hidden] { display: none !important; }` so we also need the `!important` here to be able to override the default hidden behavior on the sphinx rendered scikit-learn.org. See: https://github.com/scikit-learn/scikit-learn/issues/21755 */display: inline-block !important;position: relative;}#sk-container-id-2 div.sk-text-repr-fallback {display: none;}</style><div id=\"sk-container-id-2\" class=\"sk-top-container\"><div class=\"sk-text-repr-fallback\"><pre>RandomForestClassifier(n_estimators=50, random_state=10)</pre><b>In a Jupyter environment, please rerun this cell to show the HTML representation or trust the notebook. <br />On GitHub, the HTML representation is unable to render, please try loading this page with nbviewer.org.</b></div><div class=\"sk-container\" hidden><div class=\"sk-item\"><div class=\"sk-estimator sk-toggleable\"><input class=\"sk-toggleable__control sk-hidden--visually\" id=\"sk-estimator-id-2\" type=\"checkbox\" checked><label for=\"sk-estimator-id-2\" class=\"sk-toggleable__label sk-toggleable__label-arrow\">RandomForestClassifier</label><div class=\"sk-toggleable__content\"><pre>RandomForestClassifier(n_estimators=50, random_state=10)</pre></div></div></div></div></div>"
      ],
      "text/plain": [
       "RandomForestClassifier(n_estimators=50, random_state=10)"
      ]
     },
     "execution_count": 41,
     "metadata": {},
     "output_type": "execute_result"
    }
   ],
   "source": [
    "RandomForest_model = RandomForestClassifier(n_estimators=50, random_state=10)\n",
    "RandomForest_model.fit(x_train, y_train)"
   ]
  },
  {
   "cell_type": "code",
   "execution_count": 42,
   "id": "62f0e592",
   "metadata": {},
   "outputs": [
    {
     "name": "stdout",
     "output_type": "stream",
     "text": [
      "              precision    recall  f1-score   support\n",
      "\n",
      "      agreed       0.84      0.71      0.77     14885\n",
      "   disagreed       0.77      0.33      0.46      1338\n",
      "   unrelated       0.86      0.94      0.90     35066\n",
      "\n",
      "    accuracy                           0.86     51289\n",
      "   macro avg       0.83      0.66      0.71     51289\n",
      "weighted avg       0.85      0.86      0.85     51289\n",
      "\n"
     ]
    }
   ],
   "source": [
    "y_pred_randfomforest = RandomForest_model.predict(x_test)\n",
    "print(classification_report(y_test, y_pred_randfomforest))"
   ]
  },
  {
   "cell_type": "markdown",
   "id": "cdce1123",
   "metadata": {},
   "source": [
    "### Model 3 - Neural Network"
   ]
  },
  {
   "cell_type": "code",
   "execution_count": 43,
   "id": "c4ff7432",
   "metadata": {},
   "outputs": [],
   "source": [
    "import tensorflow as tf"
   ]
  },
  {
   "cell_type": "code",
   "execution_count": 44,
   "id": "e60834b7",
   "metadata": {},
   "outputs": [],
   "source": [
    "max_len = 30\n",
    "max_words = 10000"
   ]
  },
  {
   "cell_type": "code",
   "execution_count": 45,
   "id": "789e56e7",
   "metadata": {},
   "outputs": [],
   "source": [
    "tokenizer = tf.keras.preprocessing.text.Tokenizer(num_words=max_words, oov_token='')"
   ]
  },
  {
   "cell_type": "code",
   "execution_count": 46,
   "id": "5387a8ff",
   "metadata": {},
   "outputs": [],
   "source": [
    "vocab_t1 = train_data['title1_en']\n",
    "vocab_t2 = train_data['title2_en']\n",
    "all_words = vocab_t1 + vocab_t2\n",
    "\n",
    "tokenizer.fit_on_texts(all_words)"
   ]
  },
  {
   "cell_type": "code",
   "execution_count": 47,
   "id": "48648b22",
   "metadata": {},
   "outputs": [],
   "source": [
    "t1_df = tokenizer.texts_to_sequences(vocab_t1)\n",
    "t2_df = tokenizer.texts_to_sequences(vocab_t2)"
   ]
  },
  {
   "cell_type": "code",
   "execution_count": 48,
   "id": "c2a46044",
   "metadata": {},
   "outputs": [],
   "source": [
    "t1_df = tf.keras.preprocessing.sequence.pad_sequences(t1_df, maxlen=max_len)\n",
    "t2_df = tf.keras.preprocessing.sequence.pad_sequences(t2_df, maxlen=max_len)"
   ]
  },
  {
   "cell_type": "code",
   "execution_count": 49,
   "id": "9fe3b004",
   "metadata": {},
   "outputs": [
    {
     "data": {
      "text/plain": [
       "array([   0,    0,    0,    0,    0,    0,    0,    0,    0,    0,    0,\n",
       "          0,    0,    0,   72,  764, 2486,  786,  131,   39,   72,  341,\n",
       "          3,  764,  487, 3979, 2301, 2599,  489,  558])"
      ]
     },
     "execution_count": 49,
     "metadata": {},
     "output_type": "execute_result"
    }
   ],
   "source": [
    "t1_df[1]"
   ]
  },
  {
   "cell_type": "code",
   "execution_count": 50,
   "id": "5a665093",
   "metadata": {},
   "outputs": [],
   "source": [
    "labels = {'agreed': 0, 'disagreed': 1, 'unrelated': 2}\n",
    "\n",
    "y_train = train_data.label.apply(lambda x: labels[x])\n",
    "y_train = np.asarray(y_train).astype('float32')"
   ]
  },
  {
   "cell_type": "code",
   "execution_count": 51,
   "id": "01cccd08",
   "metadata": {},
   "outputs": [
    {
     "data": {
      "text/plain": [
       "array([[0., 0., 1.],\n",
       "       [0., 0., 1.],\n",
       "       [0., 0., 1.],\n",
       "       [0., 0., 1.],\n",
       "       [0., 0., 1.]], dtype=float32)"
      ]
     },
     "execution_count": 51,
     "metadata": {},
     "output_type": "execute_result"
    }
   ],
   "source": [
    "y_train = tf.keras.utils.to_categorical(y_train)\n",
    "y_train[:5]"
   ]
  },
  {
   "cell_type": "code",
   "execution_count": 52,
   "id": "66e2379b",
   "metadata": {},
   "outputs": [],
   "source": [
    "t1_df, x1_val, t2_df, x2_val, y_train, y_val = train_test_split(t1_df, t2_df, y_train, test_size=0.2)"
   ]
  },
  {
   "cell_type": "code",
   "execution_count": 53,
   "id": "b2e895e0",
   "metadata": {},
   "outputs": [
    {
     "name": "stdout",
     "output_type": "stream",
     "text": [
      "Model: \"model\"\n",
      "__________________________________________________________________________________________________\n",
      " Layer (type)                   Output Shape         Param #     Connected to                     \n",
      "==================================================================================================\n",
      " input_1 (InputLayer)           [(None, 30)]         0           []                               \n",
      "                                                                                                  \n",
      " input_2 (InputLayer)           [(None, 30)]         0           []                               \n",
      "                                                                                                  \n",
      " embedding (Embedding)          (None, 30, 128)      1280000     ['input_1[0][0]']                \n",
      "                                                                                                  \n",
      " embedding_1 (Embedding)        (None, 30, 128)      1280000     ['input_2[0][0]']                \n",
      "                                                                                                  \n",
      " gru (GRU)                      (None, 64)           37248       ['embedding[0][0]']              \n",
      "                                                                                                  \n",
      " gru_1 (GRU)                    (None, 64)           37248       ['embedding_1[0][0]']            \n",
      "                                                                                                  \n",
      " concatenate (Concatenate)      (None, 128)          0           ['gru[0][0]',                    \n",
      "                                                                  'gru_1[0][0]']                  \n",
      "                                                                                                  \n",
      " dense (Dense)                  (None, 3)            387         ['concatenate[0][0]']            \n",
      "                                                                                                  \n",
      "==================================================================================================\n",
      "Total params: 2,634,883\n",
      "Trainable params: 2,634,883\n",
      "Non-trainable params: 0\n",
      "__________________________________________________________________________________________________\n"
     ]
    }
   ],
   "source": [
    "t1_input = tf.keras.Input(shape=(max_len,))\n",
    "t2_input = tf.keras.Input(shape=(max_len,))\n",
    "\n",
    "# siamese model with GRU\n",
    "# https://www.tensorflow.org/api_docs/python/tf/keras/layers/Embedding Turns positive integers into dense vectors of fixed size.\n",
    "t1_embedding = tf.keras.layers.Embedding(max_words, 128)(t1_input)\n",
    "t2_embedding = tf.keras.layers.Embedding(max_words, 128)(t2_input)\n",
    "\n",
    "# https://www.tensorflow.org/api_docs/python/tf/keras/layers/GRU\n",
    "t1_gru = tf.keras.layers.GRU(64)(t1_embedding)\n",
    "t2_gru = tf.keras.layers.GRU(64)(t2_embedding)\n",
    "\n",
    "# t1_dense = tf.keras.layers.Dense(32, activation='relu')(t1_gru)\n",
    "# t2_dense = tf.keras.layers.Dense(32, activation='relu')(t2_gru)\n",
    "\n",
    "concat = tf.keras.layers.concatenate([t1_gru, t2_gru])\n",
    "\n",
    "output = tf.keras.layers.Dense(3, activation='softmax')(concat)\n",
    "\n",
    "model = tf.keras.Model(inputs=[t1_input, t2_input], outputs=output)\n",
    "\n",
    "model.summary()"
   ]
  },
  {
   "cell_type": "code",
   "execution_count": 54,
   "id": "c7c88f35",
   "metadata": {},
   "outputs": [],
   "source": [
    "opt = tf.keras.optimizers.Adam()\n",
    "model.compile(optimizer=opt, loss=tf.keras.metrics.categorical_crossentropy, metrics=['accuracy'])"
   ]
  },
  {
   "cell_type": "code",
   "execution_count": 55,
   "id": "98930769",
   "metadata": {},
   "outputs": [
    {
     "name": "stdout",
     "output_type": "stream",
     "text": [
      "Epoch 1/5\n",
      "3206/3206 [==============================] - 198s 60ms/step - loss: 0.4936 - accuracy: 0.7693 - val_loss: 0.4385 - val_accuracy: 0.7996\n",
      "Epoch 2/5\n",
      "3206/3206 [==============================] - 193s 60ms/step - loss: 0.3892 - accuracy: 0.8254 - val_loss: 0.4273 - val_accuracy: 0.8109\n",
      "Epoch 3/5\n",
      "3206/3206 [==============================] - 191s 59ms/step - loss: 0.3309 - accuracy: 0.8548 - val_loss: 0.4225 - val_accuracy: 0.8193\n",
      "Epoch 4/5\n",
      "3206/3206 [==============================] - 197s 61ms/step - loss: 0.2843 - accuracy: 0.8775 - val_loss: 0.4316 - val_accuracy: 0.8210\n",
      "Epoch 5/5\n",
      "3206/3206 [==============================] - 192s 60ms/step - loss: 0.2465 - accuracy: 0.8949 - val_loss: 0.4501 - val_accuracy: 0.8244\n"
     ]
    }
   ],
   "source": [
    "history = model.fit(x=[t1_df, t2_df], y=y_train, batch_size=64, epochs=5, validation_data=([x1_val, x2_val], y_val))"
   ]
  },
  {
   "cell_type": "code",
   "execution_count": 56,
   "id": "ef8e187f",
   "metadata": {},
   "outputs": [
    {
     "data": {
      "image/png": "[encoded data removed]",
      "text/plain": [
       "<Figure size 640x480 with 1 Axes>"
      ]
     },
     "metadata": {},
     "output_type": "display_data"
    },
    {
     "data": {
      "image/png": "[encoded data removed]",
      "text/plain": [
       "<Figure size 640x480 with 1 Axes>"
      ]
     },
     "metadata": {},
     "output_type": "display_data"
    }
   ],
   "source": [
    "import matplotlib.pyplot as plt\n",
    "plt.figure()\n",
    "plt.plot(history.history['accuracy'])\n",
    "plt.plot(history.history['val_accuracy'])\n",
    "plt.title('Model accuracy')\n",
    "plt.ylabel('Accuracy')\n",
    "plt.xlabel('Epoch')\n",
    "plt.legend(['Train', 'Val'], loc='upper left')\n",
    "plt.show()\n",
    "\n",
    "plt.figure()\n",
    "plt.plot(history.history['loss'])\n",
    "plt.plot(history.history['val_loss'])\n",
    "plt.title('Model loss')\n",
    "plt.ylabel('Loss')\n",
    "plt.xlabel('Epoch')\n",
    "plt.legend(['Train', 'Val'], loc='upper left')\n",
    "plt.show()"
   ]
  },
  {
   "cell_type": "code",
   "execution_count": 57,
   "id": "f87a1737",
   "metadata": {},
   "outputs": [],
   "source": [
    "test = pd.read_csv('test.csv')"
   ]
  },
  {
   "cell_type": "code",
   "execution_count": 58,
   "id": "2cb2e488",
   "metadata": {},
   "outputs": [
    {
     "name": "stdout",
     "output_type": "stream",
     "text": [
      "2004/2004 [==============================] - 11s 5ms/step\n"
     ]
    }
   ],
   "source": [
    "x1_test = tokenizer.texts_to_sequences(test['title1_en'])\n",
    "x2_test = tokenizer.texts_to_sequences(test['title2_en'])\n",
    "\n",
    "x1_test = tf.keras.preprocessing.sequence.pad_sequences(x1_test, maxlen=max_len)\n",
    "x2_test = tf.keras.preprocessing.sequence.pad_sequences(x2_test, maxlen=max_len)    \n",
    "\n",
    "pred = model.predict([x1_test, x2_test])"
   ]
  },
  {
   "cell_type": "code",
   "execution_count": 59,
   "id": "92f0a6ab",
   "metadata": {},
   "outputs": [
    {
     "data": {
      "text/html": [
       "<div>\n",
       "<style scoped>\n",
       "    .dataframe tbody tr th:only-of-type {\n",
       "        vertical-align: middle;\n",
       "    }\n",
       "\n",
       "    .dataframe tbody tr th {\n",
       "        vertical-align: top;\n",
       "    }\n",
       "\n",
       "    .dataframe thead th {\n",
       "        text-align: right;\n",
       "    }\n",
       "</style>\n",
       "<table border=\"1\" class=\"dataframe\">\n",
       "  <thead>\n",
       "    <tr style=\"text-align: right;\">\n",
       "      <th></th>\n",
       "      <th>id</th>\n",
       "      <th>title1_en</th>\n",
       "      <th>title2_en</th>\n",
       "      <th>label</th>\n",
       "    </tr>\n",
       "  </thead>\n",
       "  <tbody>\n",
       "    <tr>\n",
       "      <th>0</th>\n",
       "      <td>256442</td>\n",
       "      <td>The great coat brother Zhu Zhu Wen, in the man...</td>\n",
       "      <td>Lin xinsheng after the birth of \"hard milking,...</td>\n",
       "      <td>unrelated</td>\n",
       "    </tr>\n",
       "    <tr>\n",
       "      <th>1</th>\n",
       "      <td>256443</td>\n",
       "      <td>NASA reveals facts about UFO wreckage found on...</td>\n",
       "      <td>The UFO found in Yuancun, Jiaocheng County, Sh...</td>\n",
       "      <td>unrelated</td>\n",
       "    </tr>\n",
       "    <tr>\n",
       "      <th>2</th>\n",
       "      <td>256444</td>\n",
       "      <td>The hollow tomatoes are loaded with hormones.</td>\n",
       "      <td>Li chenfan bingbing home photos, netizen: this...</td>\n",
       "      <td>unrelated</td>\n",
       "    </tr>\n",
       "    <tr>\n",
       "      <th>3</th>\n",
       "      <td>256445</td>\n",
       "      <td>Ange Pavilion Geoshui: How accurate is Matrimo...</td>\n",
       "      <td>Master one: the eight-character presumption of...</td>\n",
       "      <td>unrelated</td>\n",
       "    </tr>\n",
       "    <tr>\n",
       "      <th>4</th>\n",
       "      <td>256446</td>\n",
       "      <td>A 50-year-old bus-bus blows up an 8-year-old c...</td>\n",
       "      <td>&lt; i &gt; Joe Johnson's disgruntled timing and ord...</td>\n",
       "      <td>unrelated</td>\n",
       "    </tr>\n",
       "  </tbody>\n",
       "</table>\n",
       "</div>"
      ],
      "text/plain": [
       "       id                                          title1_en  \\\n",
       "0  256442  The great coat brother Zhu Zhu Wen, in the man...   \n",
       "1  256443  NASA reveals facts about UFO wreckage found on...   \n",
       "2  256444      The hollow tomatoes are loaded with hormones.   \n",
       "3  256445  Ange Pavilion Geoshui: How accurate is Matrimo...   \n",
       "4  256446  A 50-year-old bus-bus blows up an 8-year-old c...   \n",
       "\n",
       "                                           title2_en      label  \n",
       "0  Lin xinsheng after the birth of \"hard milking,...  unrelated  \n",
       "1  The UFO found in Yuancun, Jiaocheng County, Sh...  unrelated  \n",
       "2  Li chenfan bingbing home photos, netizen: this...  unrelated  \n",
       "3  Master one: the eight-character presumption of...  unrelated  \n",
       "4  < i > Joe Johnson's disgruntled timing and ord...  unrelated  "
      ]
     },
     "execution_count": 59,
     "metadata": {},
     "output_type": "execute_result"
    }
   ],
   "source": [
    "test.drop(['tid1', 'tid2'], axis=1, inplace=True)\n",
    "\n",
    "ilabels = {0: 'agreed', 1: 'disagreed', 2: 'unrelated'}\n",
    "\n",
    "for i in range(len(pred)):\n",
    "    test.loc[i, 'label'] = ilabels[np.argmax(pred[i])]\n",
    "\n",
    "test.to_csv('results.csv', index=False)\n",
    "test.head()"
   ]
  },
  {
   "cell_type": "code",
   "execution_count": null,
   "id": "b0fd97c9",
   "metadata": {},
   "outputs": [],
   "source": []
  }
 ],
 "metadata": {
  "kernelspec": {
   "display_name": "Python 3 (ipykernel)",
   "language": "python",
   "name": "python3"
  },
  "language_info": {
   "codemirror_mode": {
    "name": "ipython",
    "version": 3
   },
   "file_extension": ".py",
   "mimetype": "text/x-python",
   "name": "python",
   "nbconvert_exporter": "python",
   "pygments_lexer": "ipython3",
   "version": "3.9.15"
  }
 },
 "nbformat": 4,
 "nbformat_minor": 5
}
